{
 "cells": [
  {
   "cell_type": "code",
   "execution_count": 4,
   "id": "a1204e7c",
   "metadata": {
    "scrolled": true
   },
   "outputs": [
    {
     "name": "stderr",
     "output_type": "stream",
     "text": [
      "Extension package jupyterlab took 0.3097s to import\n",
      "A `_jupyter_server_extension_points` function was not found in nbclassic. Instead, a `_jupyter_server_extension_paths` function was found and will be used for now. This function name will be deprecated in future releases of Jupyter Server.\n",
      "Extension package panel.io.jupyter_server_extension took 1.6918s to import\n",
      "Extension package voila.server_extension took 0.2306s to import\n",
      "Enabling: voila\n",
      "- Writing config: C:\\Users\\GREY\\anaconda3\\etc\\jupyter\n",
      "    - Validating voila...\n",
      "      voila  ok\n",
      "    - Extension successfully enabled.\n"
     ]
    }
   ],
   "source": [
    "!jupyter server extension enable voila --sys-prefix\n"
   ]
  },
  {
   "cell_type": "markdown",
   "id": "8f8c56a2",
   "metadata": {},
   "source": [
    "# Binder Url"
   ]
  },
  {
   "cell_type": "markdown",
   "id": "2196c09d",
   "metadata": {},
   "source": [
    "https://mybinder.org/v2/gh/fastai/bear_voila/HEAD?labpath=%2Fvoila%2Frender%2Fbear_voila.ipynb"
   ]
  },
  {
   "cell_type": "code",
   "execution_count": 14,
   "id": "b9874fe2",
   "metadata": {},
   "outputs": [],
   "source": [
    "from fastai.vision.all import *\n",
    "from fastai.vision.widgets import *"
   ]
  },
  {
   "cell_type": "code",
   "execution_count": 15,
   "id": "c81f232d",
   "metadata": {},
   "outputs": [],
   "source": [
    "path = Path()\n",
    "learn_inf = load_learner(path/'export.pkl', cpu=True)\n",
    "btn_upload = widgets.FileUpload()\n",
    "out_pl = widgets.Output()\n",
    "lbl_pred = widgets.Label()"
   ]
  },
  {
   "cell_type": "code",
   "execution_count": 16,
   "id": "4bde6093",
   "metadata": {},
   "outputs": [],
   "source": [
    "def on_data_change(change):\n",
    "    lbl_pred.value = ''\n",
    "    img = PILImage.create(btn_upload.data[-1])\n",
    "    out_pl.clear_output()\n",
    "    with out_pl: display(img.to_thumb(128,128))\n",
    "    pred,pred_idx,probs = learn_inf.predict(img)\n",
    "    lbl_pred.value = f'Prediction: {pred}; Probability: {probs[pred_idx]:.04f}'"
   ]
  },
  {
   "cell_type": "code",
   "execution_count": 17,
   "id": "9060263a",
   "metadata": {},
   "outputs": [],
   "source": [
    "btn_upload.observe(on_data_change, names=['data'])"
   ]
  },
  {
   "cell_type": "code",
   "execution_count": null,
   "id": "fbf12c64",
   "metadata": {},
   "outputs": [],
   "source": [
    "display(VBox([widgets.Label('Select your bear!'), btn_upload, out_pl, lbl_pred]))"
   ]
  }
 ],
 "metadata": {
  "kernelspec": {
   "display_name": "Python 3 (ipykernel)",
   "language": "python",
   "name": "python3"
  },
  "language_info": {
   "codemirror_mode": {
    "name": "ipython",
    "version": 3
   },
   "file_extension": ".py",
   "mimetype": "text/x-python",
   "name": "python",
   "nbconvert_exporter": "python",
   "pygments_lexer": "ipython3",
   "version": "3.9.12"
  }
 },
 "nbformat": 4,
 "nbformat_minor": 5
}
