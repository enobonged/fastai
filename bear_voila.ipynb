{
 "cells": [
  {
   "cell_type": "code",
   "execution_count": 4,
   "id": "2a3caae1",
   "metadata": {
    "scrolled": true
   },
   "outputs": [
    {
     "name": "stderr",
     "output_type": "stream",
     "text": [
      "Extension package jupyterlab took 0.3097s to import\n",
      "A `_jupyter_server_extension_points` function was not found in nbclassic. Instead, a `_jupyter_server_extension_paths` function was found and will be used for now. This function name will be deprecated in future releases of Jupyter Server.\n",
      "Extension package panel.io.jupyter_server_extension took 1.6918s to import\n",
      "Extension package voila.server_extension took 0.2306s to import\n",
      "Enabling: voila\n",
      "- Writing config: C:\\Users\\GREY\\anaconda3\\etc\\jupyter\n",
      "    - Validating voila...\n",
      "      voila  ok\n",
      "    - Extension successfully enabled.\n"
     ]
    }
   ],
   "source": [
    "!jupyter server extension enable voila --sys-prefix\n"
   ]
  },
  {
   "cell_type": "markdown",
   "id": "5d16e187",
   "metadata": {},
   "source": [
    "# Binder Url"
   ]
  },
  {
   "cell_type": "markdown",
   "id": "766adf20",
   "metadata": {},
   "source": [
    "https://mybinder.org/v2/gh/Abeg-gettiat/fastai-bear-voila.git/HEAD?urlpath=%2Fvoila%2Frender%2Fbear_voila.ipynb"
   ]
  },
  {
   "cell_type": "code",
   "execution_count": null,
   "id": "03edfe12",
   "metadata": {},
   "outputs": [],
   "source": []
  }
 ],
 "metadata": {
  "kernelspec": {
   "display_name": "Python 3 (ipykernel)",
   "language": "python",
   "name": "python3"
  },
  "language_info": {
   "codemirror_mode": {
    "name": "ipython",
    "version": 3
   },
   "file_extension": ".py",
   "mimetype": "text/x-python",
   "name": "python",
   "nbconvert_exporter": "python",
   "pygments_lexer": "ipython3",
   "version": "3.9.12"
  }
 },
 "nbformat": 4,
 "nbformat_minor": 5
}
